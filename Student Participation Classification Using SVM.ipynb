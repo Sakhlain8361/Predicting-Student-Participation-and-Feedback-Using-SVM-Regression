{
 "cells": [
  {
   "cell_type": "markdown",
   "id": "fb30954e-3e2c-4d55-8617-3b852398db0e",
   "metadata": {},
   "source": [
    "## SVM Model on Student Participation Feedback Dataset"
   ]
  },
  {
   "cell_type": "markdown",
   "id": "7fce9063-a1eb-4100-a3e6-aabe148f1387",
   "metadata": {},
   "source": [
    "\r\n",
    "## 1. Introduction\r\n",
    "Support Vector Machine (SVM) is a supervised learning algorithm used for classification and regression tasks. In this project, we apply an SVM model to classify student participation based on feedback dat\n",
    "\n",
    "a.\r\n",
    "\r\n",
    "## 2. Libraries Used\r\n",
    "The following libraries were used for data processing, visualization, and model training:\r\n",
    "\r\n",
    "- **numpy**: Numerical computa\n",
    "tions  \r\n",
    "- **pandas**: Data manipulation and ha\n",
    "ndling  \r\n",
    "- **matplotlib & seaborn**: Data visual\n",
    "ization  \r\n",
    "- **sklearn (scikit-learn)**: Machine learning, preprocessing, and model evaluation  \r\n",
    "\r\n",
    "Additionally, warnings were suppressed to avoid unnecessar\n",
    "\n",
    "y messages.\r\n",
    "\r\n",
    "## 3. About the Dataset\r\n",
    "The dataset contains student participation feedback attributes. The key co\n",
    "lumns include:\r\n",
    "\r\n",
    "- **final_grade**: Represents the studen\n",
    "t’s final grade  \r\n",
    "- **learning_style**: Indicates the student's l\n",
    "earning approach  \r\n",
    "- **participation_label**: The target variable, representing the level \n",
    "\n",
    "of participation  \r\n",
    "\r\n",
    "\n",
    "## 4. Basic Analysis\r\n",
    "- Displayed first and last records using `h\n",
    "ead()` and `tail()`.  \r\n",
    "- Used `info()` to check data type\n",
    "s and missing values.  \r\n",
    "- Used `describe()` to g\n",
    "et summary statistics.  \r\n",
    "- **Null Values Check**: No missing values were\n",
    "\n",
    " found in the dataset.  \r\n",
    "\n",
    "\r\n",
    "## 5. Data Preprocessing\r\n",
    "To convert categorical features into numerical forma\n",
    "\n",
    "\n",
    "t, `LabelEncoder` was used:\r\n",
    "\r\n",
    "```python\r\n",
    "from sklearn.preprocessing import LabelEncoder\r\n",
    "\r\n",
    "le = LabelEncoder()\r\n",
    "data['final_grade'] = le.fit_transform(data['final_grade'])\r\n",
    "data['learning_style'] = le.fit_transform(data['learning_style'])\r\n",
    "data['participation_label'] = le.fit_transform(data['participation_label'])\r\n"
   ]
  },
  {
   "cell_type": "markdown",
   "id": "fa655afe-28c6-4d8c-9c48-da6f15604d08",
   "metadata": {},
   "source": [
    "## 6. Model Building - Support Vector Machine (SVM)\r\n",
    "\r\n",
    "### Splitting Data into Training and Testing Sets\r\n",
    "\r\n",
    "```python\r\n",
    "from sklearn.model_selection import train_test_split\r\n",
    "\r\n",
    "x = data.drop(['participation_label'], axis=1)\r\n",
    "y = data['participation_label']\r\n",
    "\r\n",
    "x_train, x_test, y_train, y_test = train_test_split(x, y, test_size=0.2, random_state=0)\r\n",
    "\r\n",
    "print(\"x_train:\", x_train.shape)\r\n",
    "print(\"x_test:\", x_test.shape)\r\n",
    "print(\"y_train:\", y_train.shape)\r\n",
    "print(\"y_test:\" y_test.shape)\r\n"
   ]
  },
  {
   "cell_type": "markdown",
   "id": "363e8ff0-1cf2-46a1-a754-b12d0f05f3b1",
   "metadata": {},
   "source": [
    "### Feature Scaling\n",
    "\n",
    "```python\n",
    "\n",
    "from sklearn.preprocessing import StandardScaler\n",
    "\n",
    "scaler = StandardScaler()\n",
    "x_train = scaler.fit_transform(x_train)\n",
    "x_test = scaler.transform(x_test)"
   ]
  },
  {
   "cell_type": "markdown",
   "id": "b1c0d311-c56d-40db-8960-4ef760eeb2d5",
   "metadata": {},
   "source": [
    "### Training the SVM Model"
   ]
  },
  {
   "cell_type": "markdown",
   "id": "0f15cb68-93ca-42df-b798-0bc40a6c1c09",
   "metadata": {},
   "source": [
    "```python\n",
    "\n",
    "from sklearn.svm import SVC\n",
    "\n",
    "model = SVC(kernel='linear', random_state=1)\n",
    "model.fit(x_train, y_train)"
   ]
  },
  {
   "cell_type": "markdown",
   "id": "ad2f287a-336e-47a0-8cfb-f2fcf8361d26",
   "metadata": {},
   "source": [
    "## 7. Model Evaluation"
   ]
  },
  {
   "cell_type": "markdown",
   "id": "9ce58358-eb83-48a5-b131-809671d62ad0",
   "metadata": {},
   "source": [
    "### Predictions\n",
    "\n",
    "```python\n",
    "\n",
    "y_pred = model.predict(x_test)"
   ]
  },
  {
   "cell_type": "markdown",
   "id": "1d9ade81-0644-4069-9b5d-e9cb2e4c6f12",
   "metadata": {},
   "source": [
    "### Mean Squared Error (MSE)\n",
    "\n",
    "```python\n",
    "\n",
    "from sklearn.metrics import mean_squared_error\n",
    "mse = mean_squared_error(y_test, y_pred)\n",
    "print(f\"Mean Squared Error: {mse:.4f}\")"
   ]
  },
  {
   "cell_type": "markdown",
   "id": "32256581-39a8-450c-9ed4-e79d20d1f368",
   "metadata": {},
   "source": [
    "**Output**: `Mean Squared Error: 1.9750`"
   ]
  },
  {
   "cell_type": "markdown",
   "id": "bfbe8b8d-891f-4487-a7c2-3ebc22f2ab28",
   "metadata": {},
   "source": [
    "### R-Squared Score\n",
    "\n",
    "\n",
    "```python\n",
    "\n",
    "from sklearn.metrics import r2_score\n",
    "r2 = r2_score(y_test, y_pred)\n",
    "print(f\"Accuracy of R2_Score = {r2}\")"
   ]
  },
  {
   "cell_type": "markdown",
   "id": "16603d88-1eec-4317-b91e-a061995c9878",
   "metadata": {},
   "source": [
    "**Output**: `Accuracy of R2_Score = -0.6631`"
   ]
  },
  {
   "cell_type": "markdown",
   "id": "87e08980-30e8-4e89-8be6-cc2b3624b721",
   "metadata": {},
   "source": [
    "## 8. Conclusion"
   ]
  },
  {
   "cell_type": "markdown",
   "id": "2c0dc438-a7cd-4380-af4d-0ed8d8325703",
   "metadata": {},
   "source": [
    "- The SVM model was successfully applied to classify student participation.\n",
    "\n",
    "- The **Mean Squared Error (MSE) of 1.9750** suggests some level of misclassification.\n",
    "\n",
    "- The **negative R-squared score (-0.6631)** indicates that the model does not fit well, meaning improvements are needed.\n",
    "\n",
    "- Possible improvements include using different kernels (e.g., polynomial, RBF) or trying alternative classifiers such as **Random Forest or XGBoost**.\n",
    "\n",
    "This report provides a structured explanation of the dataset, preprocessing, model building, and evaluation steps.\n",
    "\n"
   ]
  },
  {
   "cell_type": "code",
   "execution_count": null,
   "id": "6d72f9d8-f780-4213-a515-6580b39060f1",
   "metadata": {},
   "outputs": [],
   "source": []
  }
 ],
 "metadata": {
  "kernelspec": {
   "display_name": "Python 3 (ipykernel)",
   "language": "python",
   "name": "python3"
  },
  "language_info": {
   "codemirror_mode": {
    "name": "ipython",
    "version": 3
   },
   "file_extension": ".py",
   "mimetype": "text/x-python",
   "name": "python",
   "nbconvert_exporter": "python",
   "pygments_lexer": "ipython3",
   "version": "3.12.4"
  }
 },
 "nbformat": 4,
 "nbformat_minor": 5
}
